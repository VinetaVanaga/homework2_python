{
 "cells": [
  {
   "cell_type": "code",
   "execution_count": null,
   "metadata": {},
   "outputs": [],
   "source": [
    "# def clean_folder_many_texts(src_folder,dest_folder, src_postfix=\".txt\",dest_postfix=\"_cleaned.txt\", good_texts=(),bad_texts=()):\n",
    "    # open src_folder\n",
    "    # keep only lines with good text BUT not with bad_text\n",
    "    # check for default edge cases when good_texts and/or bad_texts are empty\n",
    "    # save onto dest_folder with same file names but with dest_postfix added to each file\n",
    "    # create dest_folder if it does not exist!\n",
    "    # print(f\"Cleaned files in {src_folder} and saved onto {dest_folder}\")"
   ]
  },
  {
   "cell_type": "code",
   "execution_count": 2,
   "metadata": {},
   "outputs": [],
   "source": [
    "import os\n",
    "cwd = os.getcwd()"
   ]
  },
  {
   "cell_type": "code",
   "execution_count": 3,
   "metadata": {},
   "outputs": [],
   "source": [
    "src_folder=cwd+'/src_folder'\n",
    "dest_folder = cwd+'/dest_folder'\n",
    "if not os.path.exists(dest_folder):\n",
    "    os.makedirs(dest_folder)"
   ]
  },
  {
   "cell_type": "code",
   "execution_count": 4,
   "metadata": {},
   "outputs": [],
   "source": [
    "src_postfix='.txt'\n",
    "myfiles = os.listdir(src_folder)\n",
    "mytextfiles = [fname for fname in myfiles if fname.endswith(src_postfix)]"
   ]
  },
  {
   "cell_type": "code",
   "execution_count": 5,
   "metadata": {},
   "outputs": [],
   "source": [
    "number_of_files = len(mytextfiles)\n",
    "\n",
    "original_name_part = [s.replace('.txt', '') for s in mytextfiles]"
   ]
  },
  {
   "cell_type": "code",
   "execution_count": 6,
   "metadata": {},
   "outputs": [],
   "source": [
    "def clean_folder_many_texts(src_folder,dest_folder, src_postfix=\"\",dest_postfix=\"\", good_texts=[],bad_texts=[]):\n",
    "    for i in range (0, number_of_files):\n",
    "        with open(src_folder +'/'+ mytextfiles[i], encoding=\"utf-8\") as f:\n",
    "            new_file = os.path.join(dest_folder,original_name_part[i] + dest_postfix)\n",
    "            with open(new_file,\"w+\") as fp:\n",
    "                fp.write(\"\")\n",
    "            for line in f:\n",
    "                if any(word in line for word in good_texts) and not any(word in line for word in bad_texts):\n",
    "                    new_file = os.path.join(dest_folder,original_name_part[i] + dest_postfix)\n",
    "                    with open(new_file,\"w+\") as fp:\n",
    "                        fp.write(line)"
   ]
  },
  {
   "cell_type": "code",
   "execution_count": 8,
   "metadata": {},
   "outputs": [
    {
     "name": "stdout",
     "output_type": "stream",
     "text": [
      "Cleaned files in C:\\Users\\User\\Desktop\\DIGI_2020\\1.kurss\\2. semestris\\Python/src_folder and saved onto C:\\Users\\User\\Desktop\\DIGI_2020\\1.kurss\\2. semestris\\Python/dest_folder\n"
     ]
    }
   ],
   "source": [
    "clean_folder_many_texts(src_folder,dest_folder, src_postfix=\".txt\",dest_postfix=\"_cleaned.txt\", good_texts=[\"text\",\"Trust\",\"trust\"],bad_texts=[\"the\"])\n",
    "print(f\"Cleaned files in {src_folder} and saved onto {dest_folder}\")"
   ]
  },
  {
   "cell_type": "code",
   "execution_count": null,
   "metadata": {},
   "outputs": [],
   "source": []
  }
 ],
 "metadata": {
  "kernelspec": {
   "display_name": "Python 3",
   "language": "python",
   "name": "python3"
  },
  "language_info": {
   "codemirror_mode": {
    "name": "ipython",
    "version": 3
   },
   "file_extension": ".py",
   "mimetype": "text/x-python",
   "name": "python",
   "nbconvert_exporter": "python",
   "pygments_lexer": "ipython3",
   "version": "3.8.5"
  }
 },
 "nbformat": 4,
 "nbformat_minor": 4
}
